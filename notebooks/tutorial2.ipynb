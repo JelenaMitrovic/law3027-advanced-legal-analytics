{
 "cells": [
  {
   "cell_type": "markdown",
   "id": "2277d247",
   "metadata": {},
   "source": [
    "# Advanced Legal Analytics\n",
    "# LAW 3027 Tutorial 2: Introduction to Linear Regression\n",
    "\n",
    "\n",
    "#### Intended Learning Outcomes:\n",
    "This notebook provides a gentle introduction to Linear Regression.\n",
    "By the end of this notebook you will know how to:\n",
    "- Peform Regression Analysis to model the linear relationship between an independent and dependent variable\n",
    "- Interpret the regression model and its parameters\n",
    "\n",
    "#### Libraries to be used:\n",
    "You can activate your previously used environment, though you will not use most packages from that environment. In this tutorial, we will use only the most commonly used python libraries such as: `pandas`, `numpy`, `matplotlib`, `scipy`, `seaborn` etc. \n",
    "\n",
    "We will use the Machine Learning library of Python, called Scikit Learn. You can use `pip` to install it. See the instructions here: https://scikit-learn.org/stable/install.html"
   ]
  },
  {
   "cell_type": "markdown",
   "id": "5aa37486",
   "metadata": {},
   "source": [
    "### Linear Regression\n",
    "\n",
    "#### 1.1\n",
    "The model for a linear regression is described by the following formula:\n",
    "\n",
    "$\\hat{y_i} = \\hat{\\beta_0} + \\hat{\\beta_1}x_i $\n",
    "\n",
    "\n",
    "which describes the relationship between two variables $x$ and $y$ (the subscript $i$ is a variable that represents the index of a given data point). Can you see from the formula why this model is a _linear_ regression?\n",
    "\n",
    "In linear regression, one variable is called independent and another is dependent. \n",
    "\n",
    "Just looking at how the formula is written;  Which variable do you think is the dependent variable and which is the independent variable?\n",
    "\n",
    "What are the other terms $\\hat{\\beta_0}$ and $\\hat{\\beta_1}$ ? "
   ]
  },
  {
   "cell_type": "markdown",
   "id": "0b547b80",
   "metadata": {},
   "source": [
    "##### 1.2 In the following picture, which regression line do you think best fits the data? How might you check?"
   ]
  },
  {
   "cell_type": "code",
   "execution_count": null,
   "id": "e30891d3",
   "metadata": {},
   "outputs": [],
   "source": [
    "from IPython import display\n",
    "display.Image(\"figs/regression_line.png\")"
   ]
  },
  {
   "cell_type": "markdown",
   "id": "709ed2dc",
   "metadata": {},
   "source": [
    "##### 1.3 Watch the video below and discuss the answer to 1.2 after getting insights from the video."
   ]
  },
  {
   "cell_type": "code",
   "execution_count": null,
   "id": "9861b9b2",
   "metadata": {},
   "outputs": [],
   "source": [
    "from IPython.display import YouTubeVideo\n",
    "YouTubeVideo(\"jEEJNz0RK4Q\", width=600)"
   ]
  },
  {
   "cell_type": "markdown",
   "id": "49d09862",
   "metadata": {},
   "source": [
    "#### 2 The Swedish Auto Insurance Problem\n",
    "\n",
    "The Swedish Auto Insurance Dataset involves predicting the total payment for all claims in thousands of Swedish Kronor, given the total number of claims. It is a regression problem. It is comprised of 63 observations with 1 input variable and one output variable. The variable names are as follows:\n",
    "\n",
    "- X = Number of claims.\n",
    "- Y = Total payment for all claims in thousands of Swedish Kronor.\n",
    "\n",
    "#### 2.1 Load the dataset\n",
    "The dataset is available at the following url : https://raw.githubusercontent.com/maastrichtlawtech/law3027-advanced-legal-analytics/main/data/insurance.csv \n",
    "\n",
    "Load the dataset using pandas. Create a dataframe, called `df_insurance` to load the data. "
   ]
  },
  {
   "cell_type": "markdown",
   "id": "ec0e7cfe",
   "metadata": {},
   "source": [
    "#### 2.2 Inspect the data, do and exploratory data analysis and remove any anomalies (missing values, invalid values, etc.) "
   ]
  },
  {
   "cell_type": "markdown",
   "id": "76012ad7",
   "metadata": {},
   "source": [
    "#### 2.3 Peform a Visual Exploratory data analysis\n",
    "\n",
    "Conduct a univariate visual exploratory data analysis on the dataset(you can plot the histograms, cumulative/probability distribution plots etc (feel free to recall the tutorial on Visual Exploratory Analysis from Legal Analytics Course).\n",
    "\n",
    "What are your observations. Did you find some outliers? "
   ]
  },
  {
   "cell_type": "markdown",
   "id": "9b3922cc",
   "metadata": {},
   "source": [
    "#### 2.4 Perform a Correlation Analysis between the two variables: Number of claims and Payment for all claims in Swedish Kronor\n",
    "\n",
    "- Make a scattert plot between the two variables\n",
    "- Compute the Pearson Correlation Coefficient between the two variables\n",
    "\n",
    "- What are your observations? Is there a linear relationship between the two variables ?\n",
    "- What is the magnitude of the correlation coefficient ?"
   ]
  },
  {
   "cell_type": "markdown",
   "id": "80a2f0ca",
   "metadata": {},
   "source": [
    "#### 2.5 Preparing the data for Linear Regression\n",
    "The variable names are as follows:\n",
    "\n",
    "- X (Independent Variable) = Number of claims. \n",
    "- Y (Dependent Variable) = Total payment for all claims in thousands of Swedish Kronor."
   ]
  },
  {
   "cell_type": "code",
   "execution_count": null,
   "id": "a0ffe84b",
   "metadata": {},
   "outputs": [],
   "source": [
    "import numpy as np\n",
    "X = df_insurance['Number_of_claims'].values\n",
    "y = df_insurance['Payment_for_all_claims_in_Swedish_Kronor'].values\n",
    "print(X,X.shape, X.ndim)\n",
    "#Notice that X is a 1-dimensional array with a shape of (63,) "
   ]
  },
  {
   "cell_type": "code",
   "execution_count": null,
   "id": "064f8455",
   "metadata": {},
   "outputs": [],
   "source": [
    "#scikit-learn expects a 2-D array\n",
    "# we will use the array.reshape(shape) function to reshape the array. See here: https://www.geeksforgeeks.org/reshape-numpy-array/\n",
    "#It takes a tuple as an argument. The tuple is the new shape to be formed\n",
    "X = X.reshape((len(X), 1)) # the new data structure will have 63 arrays, each with 1 element\n",
    "print(X, X.shape, X.ndim)"
   ]
  },
  {
   "cell_type": "markdown",
   "id": "b69e9c7e",
   "metadata": {},
   "source": [
    "#### 2.6 Do the train-test split. Set the train_size = 0.8 (80% training and 20% testing set)"
   ]
  },
  {
   "cell_type": "code",
   "execution_count": null,
   "id": "aa8abdae",
   "metadata": {},
   "outputs": [],
   "source": [
    "from sklearn.linear_model import LinearRegression\n",
    "from sklearn.model_selection import train_test_split\n",
    "X_train, X_test, y_train, y_test = train_test_split(X, y, train_size = 0.8, random_state = 0)\n",
    "# see here for more details: https://scikit-learn.org/stable/modules/generated/sklearn.model_selection.train_test_split.html"
   ]
  },
  {
   "cell_type": "markdown",
   "id": "bd791a59",
   "metadata": {},
   "source": [
    "Note that we have split `X` into 2 parts: `X_train` and `X_test`. \n",
    "Similarly we have also split `y` into 2 parts: `y_train` and `y_test`"
   ]
  },
  {
   "cell_type": "markdown",
   "id": "d6b11e42",
   "metadata": {},
   "source": [
    "#### 2.7 Train the Linear Regression Model"
   ]
  },
  {
   "cell_type": "code",
   "execution_count": null,
   "id": "4eefb2b5",
   "metadata": {},
   "outputs": [],
   "source": [
    "reg = LinearRegression().fit(X_train, y_train)"
   ]
  },
  {
   "cell_type": "markdown",
   "id": "e01aef50",
   "metadata": {},
   "source": [
    "#### 2.8 Compute the Slope and the Intercept"
   ]
  },
  {
   "cell_type": "code",
   "execution_count": null,
   "id": "558ffde0",
   "metadata": {},
   "outputs": [],
   "source": [
    "print(\"Slope:{}\".format(reg.coef_)) #underscore denotes that a quantity has been derived from training data\n",
    "print(\"Intercept:{}\".format(reg.intercept_))"
   ]
  },
  {
   "cell_type": "markdown",
   "id": "ee23baba",
   "metadata": {},
   "source": [
    "Interpretation of the Slope: For each additional claim, the payment increases by 3.34 thousands of Swedish Kronor. "
   ]
  },
  {
   "cell_type": "markdown",
   "id": "0541f9bc",
   "metadata": {},
   "source": [
    "#### 2.9 Make the predictions on the test set\n",
    "\n",
    "We will use the trained linear regression model, `reg` to make predictions on the `X` values in the test set. The `x` values in the test set are given by `X_test`. The `y` values predictions on the `X_test` are stored in `y_pred` as indicated below."
   ]
  },
  {
   "cell_type": "code",
   "execution_count": null,
   "id": "f81b3e35",
   "metadata": {},
   "outputs": [],
   "source": [
    "y_pred = reg.predict(X_test) #the predictions on the test set are stored in y_pred"
   ]
  },
  {
   "cell_type": "markdown",
   "id": "af61b695",
   "metadata": {},
   "source": [
    "#### 2.10 Predict the value of payment for an example value of the number of claims\n",
    "What will be the payment for say, 56 claims ?"
   ]
  },
  {
   "cell_type": "code",
   "execution_count": null,
   "id": "d8b43707",
   "metadata": {},
   "outputs": [],
   "source": [
    "reg.predict([[56]])"
   ]
  },
  {
   "cell_type": "markdown",
   "id": "5ab64913",
   "metadata": {},
   "source": [
    "#### 2.11 Plot the predicted values for the test set using the Linear Regression Model (You need to plot the least squares regression line). Also plot the acutal test data."
   ]
  },
  {
   "cell_type": "markdown",
   "id": "5fbf05b9",
   "metadata": {},
   "source": [
    "#### 2.12 Compute the mean squared error and the R2 score"
   ]
  },
  {
   "cell_type": "code",
   "execution_count": null,
   "id": "e398b7f2",
   "metadata": {},
   "outputs": [],
   "source": [
    "from sklearn.metrics import mean_squared_error, r2_score\n",
    "print('Mean squared error: {}'.format(mean_squared_error(y_test, y_pred)))\n",
    "print('Coefficient of determination or R2 Score: {}'.format(r2_score(y_test, y_pred)))"
   ]
  },
  {
   "cell_type": "markdown",
   "id": "c03c6b56-7fa5-4643-b4a9-9d25de13fd8d",
   "metadata": {},
   "source": [
    "## 3. Correlation & Regression Analysis on a Crime Dataset\n",
    "\n",
    "#### Dataset: \n",
    "\n",
    "We have collected a subset of the crime dataset from UCI Machine Learning Repository. For detailed information about the variables in the dataset you can refer to the link: https://archive.ics.uci.edu/dataset/183/communities+and+crime\n",
    "\n",
    "The dataset is available here: https://raw.githubusercontent.com/maastrichtlawtech/law3027-advanced-legal-analytics/main/data/crime_dataset_assignment.csv\n",
    "\n",
    "#### Target Variable\n",
    "\n",
    "The target variable of interest is `ViolentCrimesPerPop`. It refers to the total number of violent crimes per 100K popuation (numeric - decimal).\n",
    "\n",
    "#### Sub-Tasks:\n",
    "\n",
    "Specific tasks you need to perform to complete this question:\n",
    "\n",
    "- Load the crime dataset into a pandas DataFrame called `df_crime`\n",
    "\n",
    "\n",
    "- Compute a correlation matrix for the `df_crime` dataframe.\n",
    "\n",
    "\n",
    "- Programatically identify the top 5 most correlated variables (features) with `ViolentCrimesPerPop`.  The code should print the correlation values with between `ViolentCrimesPerPop` and the top 5 most correlated features.  Further, compute the correlation matrix of `ViolentCrimesPerPop` with the 5 most correlated features.  You can always refer here to see the meaning of each variable: https://archive.ics.uci.edu/dataset/183/communities+and+crime\n",
    "\n",
    "\n",
    "- Consider the most correlated variable with `ViolentCrimesPerPop` as the independent variable and `ViolentCrimesPerPop` as the dependent/target variable. Perform a linear regression analysis to predict the `ViolentCrimesPerPop`  using the most correlated variable. \n",
    "   \n",
    "   - Split the dataset as 90% training and 10% test set\n",
    "   - Compute the Mean squared error and Coefficient of Determination on the test set\n",
    "   - Compute the Slope & Intercept\n",
    "   - Plot the predicted values for the test set using the Linear Regression Model. Also plot the acutal test data.\n"
   ]
  }
 ],
 "metadata": {
  "kernelspec": {
   "display_name": "Python 3 (ipykernel)",
   "language": "python",
   "name": "python3"
  },
  "language_info": {
   "codemirror_mode": {
    "name": "ipython",
    "version": 3
   },
   "file_extension": ".py",
   "mimetype": "text/x-python",
   "name": "python",
   "nbconvert_exporter": "python",
   "pygments_lexer": "ipython3",
   "version": "3.8.18"
  }
 },
 "nbformat": 4,
 "nbformat_minor": 5
}
