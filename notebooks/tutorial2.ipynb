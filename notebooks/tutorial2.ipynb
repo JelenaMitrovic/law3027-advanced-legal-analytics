{
 "cells": [
  {
   "cell_type": "markdown",
   "metadata": {},
   "source": [
    "April 2022\n",
    "\n",
    "# LAW3027 - Tutorial 2: Contract Automation\n",
    "\n",
    "Contract Automation can be described as the process of generating, managing, and storing contracts digitally to create a more efficient contract workflow.\n",
    "\n",
    "### Intended learning outcomes\n",
    "\n",
    "By the end of this notebook, you will know:\n",
    "\n",
    "* how to extract key contract elements in a structured way;\n",
    "* how to visualize these elements in a contract;\n",
    "* how to store the extracted elements in a dataframe;\n",
    "* how to query the dataframe to retrieve elements that satisfy given conditions.\n",
    "\n",
    "\n",
    "### Github page of the course Advanced Legal Analytics\n",
    "\n",
    "The link to the github page of the course is available here: https://github.com/maastrichtlawtech/law3027-advanced-legal-analytics\n",
    "\n",
    "The github page of the course will contain all the tutorial notebooks, datasets, environment and configuration files. It is recommended that you download the latest version of this git repository as a zip and extract it into your local drive. Then you can be organize the files according to the github repository of the course. Advanced users can use git (follow any online tutorial) to be updated with the latest version of the github repository.\n",
    "\n",
    "\n",
    "### Create a new conda environment from the yml file\n",
    "\n",
    "Go to the environment.yml file located on the Github page of the course here: https://github.com/maastrichtlawtech/law3027-advanced-legal-analytics/blob/main/environment.yml . Save the file in your local directory where you run Jupyter notebooks. \n",
    "\n",
    "- For Windows: Open the “Anaconda prompt” and for Mac OS: open the terminal. Navigate to the folder where you stored the `environment.yml` file using the `cd` command. For instance you are in the `/home/user` folder. The user folder contains a `Downloads` folder where you stored the `environment.yml` file. Then you can use the `cd` command as follows: `cd Downloads`. Then run the following command to create a new environment called `ala`. The name `ala` is taken from the first line of the `environment.yml` file. \n",
    "\n",
    "Create the environment: `conda env create -f environment.yml`\n",
    "\n",
    "Activate the environment: `conda activate ala`\n",
    "\n",
    "Then run `jupyter notebook` and open the `tutorial2.ipynb` file\n",
    "\n",
    "### Library to be used in today's tutorial: LexNLP\n",
    "Read more about LexNLP here: https://lexpredict-lexnlp.readthedocs.io/en/latest/about.html  or https://github.com/LexPredict/lexpredict-lexnlp/blob/master/documentation/docs/source/about.rst. The documentation of the library can be found here: https://lexpredict-lexnlp.readthedocs.io/en/latest/modules/extract/extract.html\n",
    "\n",
    "<hr/>"
   ]
  },
  {
   "cell_type": "markdown",
   "metadata": {},
   "source": [
    "## 1. Extraction of key contract elements with LexNLP\n",
    "\n",
    "[LexNLP](https://github.com/LexPredict/lexpredict-lexnlp) is a Python library for information extraction in real, unstructured legal text (including contracts, plans, policies, procedures, and other material). It various contains methods that allow to extract the following data types from unstructured textual legal sources:\n",
    "\n",
    "* *acts*, e.g., “section 1 of the Advancing Hope Act, 1986”\n",
    "* *amounts*, e.g., “ten pounds” or “5.8 megawatts”\n",
    "* *companies*, e.g., “Lexpredict LLC”\n",
    "* *conditions*, e.g., “subject to …” or “unless and until …”\n",
    "* *constraints*, e.g., “no more than” or “\n",
    "* *copyright*, e.g., “(C) Copyright 2000 Acme”\n",
    "* *courts*, e.g., “Supreme Court of New York”\n",
    "* *CUSIP*, e.g., “392690QT3”\n",
    "* *dates*, e.g., “June 1, 2017” or “2018-01-01”\n",
    "* *definitions*, e.g., “Term shall mean …”\n",
    "* *distances*, e.g., “fifteen miles”\n",
    "* *durations*, e.g., “ten years” or “thirty days”\n",
    "* *money*, e.g., “$5” or “10 Euro”\n",
    "* *percents and rates*, e.g., “10%” or “50 bps”\n",
    "* *PII*, e.g., “212-212-2121” or “999-999-9999”\n",
    "* *ratios*, e.g.,” 3:1” or “four to three”\n",
    "* *regulations*, e.g., “32 CFR 170”\n",
    "* *trademarks*, e.g., “MyApp (TM)”\n",
    "* *URLs*, e.g., “http://acme.com/”\n",
    "\n",
    "Normally, extraction of elements using LexNLP works as follows:\n",
    "\n",
    "1. Load a text to extract elements from:\n",
    "    ```python\n",
    "    with open('contract.txt') as f:\n",
    "        contract = f.readlines()\n",
    "    ```\n",
    "2. Select **one** type of elements (among those mentioned above) to extract:\n",
    "    * e.g., amounts\n",
    "3. Import the LexNLP module corresponding to that type of elements:\n",
    "    ```python\n",
    "    import lexnlp.extract.en.amounts\n",
    "    ```\n",
    "4. Extract those elements using the dedicated function from the imported module:\n",
    "    ```python\n",
    "    amounts = lexnlp.extract.en.amounts.get_amounts(text=contract)\n",
    "    ```\n"
   ]
  },
  {
   "cell_type": "markdown",
   "metadata": {},
   "source": [
    "#### 1.1 Extracting Copyright"
   ]
  },
  {
   "cell_type": "code",
   "execution_count": null,
   "metadata": {},
   "outputs": [],
   "source": [
    "import lexnlp.extract.en.copyright\n",
    "text = \"(C) Copyright 1993-1996 Hughes Information Systems Company\"\n",
    "print(list(lexnlp.extract.en.copyright.get_copyright(text)))"
   ]
  },
  {
   "cell_type": "markdown",
   "metadata": {},
   "source": [
    "#### 1.2 Extract the regulation and acts from the following text"
   ]
  },
  {
   "cell_type": "code",
   "execution_count": null,
   "metadata": {},
   "outputs": [],
   "source": [
    "#Extract the regulations\n",
    "text = \"\"\"\n",
    "Pub. L. 107–207, §1, Aug. 5, 2002, 116 Stat. 926, provided that: \"This Act [enacting section 8 of this title] may be cited as the 'Born-Alive Infants Protection Act of 2002'.\"\n",
    "\"\"\"\n"
   ]
  },
  {
   "cell_type": "code",
   "execution_count": null,
   "metadata": {},
   "outputs": [],
   "source": [
    "# Extract the acts"
   ]
  },
  {
   "cell_type": "markdown",
   "metadata": {},
   "source": [
    "### 2. New Utility module: We (the course team) provides a utility function to extract several types of elements at once in a given contract\n",
    "\n",
    "Now, one bottleneck of their (LexNLP's) approach is that you can't extract **multiple** types of elements at once in a given contract. For each type of element, you must import the corresponding module and call the proper function. That is why, to make our life easier (reason for living of any computer scientist), we have implemented a small utility function on top of LexNLP that allows to extract one **or** several types of elements at once in a given contract. The utility function file is available on the GitHub page of the course here: https://github.com/maastrichtlawtech/law3027-advanced-legal-analytics/blob/main/notebooks/utils.py\n",
    "\n",
    "Make sure that the utility file is in the same folder as your notebook (keep the organization of your local directory same as the Github page of the course)\n",
    "\n",
    "1. Import the utility function:\n",
    "    ```python\n",
    "    from utils import extract\n",
    "    ```\n",
    "2. Extract one or several types of elements from a contract using that function:\n",
    "    ```python\n",
    "    elements = extract(text=contract, element_types=['amounts', 'dates', 'copyright'])\n",
    "\n",
    "Let's now have a look at the format in which each type of extracted elements is returned by our function.\n"
   ]
  },
  {
   "cell_type": "code",
   "execution_count": null,
   "metadata": {},
   "outputs": [],
   "source": [
    "# import the extract function\n",
    "from utils import extract"
   ]
  },
  {
   "cell_type": "code",
   "execution_count": null,
   "metadata": {},
   "outputs": [],
   "source": [
    "# Extract the Acts\n",
    "example = \"test section 12 of the VERY Important Act of 1954.\"\n"
   ]
  },
  {
   "cell_type": "code",
   "execution_count": null,
   "metadata": {},
   "outputs": [],
   "source": [
    "# Extract the Amounts\n",
    "example = \"There are ten cows in the dozen acre pasture.\"\n"
   ]
  },
  {
   "cell_type": "code",
   "execution_count": null,
   "metadata": {},
   "outputs": [],
   "source": [
    "# Extract the Companies\n",
    "example = \"This is Deutsche Bank Securities Inc.\"\n"
   ]
  },
  {
   "cell_type": "code",
   "execution_count": null,
   "metadata": {},
   "outputs": [],
   "source": [
    "#Extract the Conditions\n",
    "example = \"This will occur unless something else happens.\"\n"
   ]
  },
  {
   "cell_type": "code",
   "execution_count": null,
   "metadata": {},
   "outputs": [],
   "source": [
    "#Extract the Constraints\n",
    "example = \"The rate shall be no less than 50 bps.\"\n"
   ]
  },
  {
   "cell_type": "code",
   "execution_count": null,
   "metadata": {},
   "outputs": [],
   "source": [
    "#Extract the Copyrights\n",
    "example = \"(C) Copyright 1993-1996 Hughes Information Systems Company\"\n"
   ]
  },
  {
   "cell_type": "code",
   "execution_count": null,
   "metadata": {},
   "outputs": [],
   "source": [
    "#Extract the Courts\n",
    "example = \"To be heard in either SCOTUS or D.C. Cir.\"\n"
   ]
  },
  {
   "cell_type": "code",
   "execution_count": null,
   "metadata": {},
   "outputs": [],
   "source": [
    "#Extract the CUSIP\n",
    "example = \"This is 39298#QT5 code.\"\n"
   ]
  },
  {
   "cell_type": "code",
   "execution_count": null,
   "metadata": {},
   "outputs": [],
   "source": [
    "#Extract the Dates\n",
    "example = \"This agreement shall terminate on the 15th day of March, 2020.\"\n"
   ]
  },
  {
   "cell_type": "code",
   "execution_count": null,
   "metadata": {},
   "outputs": [],
   "source": [
    "#Extract the Definitions\n",
    "example = \"'Advance' means a Revolving Credit Advance\"\n"
   ]
  },
  {
   "cell_type": "code",
   "execution_count": null,
   "metadata": {},
   "outputs": [],
   "source": [
    "#Extract the Distances\n",
    "example = \"Within 50 miles of office.\"\n"
   ]
  },
  {
   "cell_type": "code",
   "execution_count": null,
   "metadata": {},
   "outputs": [],
   "source": [
    "#Extract the Durations\n",
    "example = \"This Agreement shall terminate in nine (9) months.\"\n"
   ]
  },
  {
   "cell_type": "code",
   "execution_count": null,
   "metadata": {},
   "outputs": [],
   "source": [
    "#Extract the Money\n",
    "example = \"The cost is estimated to 10000 USD.\"\n"
   ]
  },
  {
   "cell_type": "code",
   "execution_count": null,
   "metadata": {},
   "outputs": [],
   "source": [
    "#Extract the Percents\n",
    "example = \"At a discount of 1%\"\n"
   ]
  },
  {
   "cell_type": "code",
   "execution_count": null,
   "metadata": {},
   "outputs": [],
   "source": [
    "#Extract the Personally-identifiable information (PII)\n",
    "example = \"Mary Doe (212-123-4567)\"\n"
   ]
  },
  {
   "cell_type": "code",
   "execution_count": null,
   "metadata": {},
   "outputs": [],
   "source": [
    "#Extract the US regulatory references\n",
    "example = \"Pursuant to 123 CFR 456, Provider shall\"\n"
   ]
  },
  {
   "cell_type": "code",
   "execution_count": null,
   "metadata": {},
   "outputs": [],
   "source": [
    "#Extract the Ratios\n",
    "example = \"At a leverage ratio of no more than ten to one.\"\n"
   ]
  },
  {
   "cell_type": "code",
   "execution_count": null,
   "metadata": {},
   "outputs": [],
   "source": [
    "#Extract the Trademarks\n",
    "example = \"Customer agrees to license HAL(TM)\"\n"
   ]
  },
  {
   "cell_type": "markdown",
   "metadata": {},
   "source": [
    "#### 2.1\n",
    "\n",
    "So, we have seen that the output of the `extract()` function is a list of dictionaries, where each dictionary element represents an extracted entity that comes in the following format:\n",
    "\n",
    "```python\n",
    "{\n",
    "    'type': '...',  #the type of the extracted entity.\n",
    "    'element': '...',  #the value of the extracted entity.\n",
    "    'location': (starting_char, ending_char),  #the location in the text of the extracted entity.\n",
    "    'details': {'x': '...', 'y': '...', 'z': '...'}  #additional details on the extracted entity.\n",
    "}\n",
    "```\n",
    "\n",
    "Now, let's try to extract the entities in a contract. To do so, let's load a few contracts from the [Contract Understanding Atticus Dataset (CUAD)](https://www.atticusprojectai.org/cuad), a publicly available dataset of 510 commercial legal contracts.\n",
    "\n",
    "* Let us first create a variable that stores the path to the folder containing the contracts: `../data/CUAD_v1/full_contract_txt/\"`. The dataset is already provided on the github page of the course here: \n",
    "* Let us now create a list that contains the names of each file in that folder (hint: use the `os.listdir()` function). Only keep the first 10 file names.\n",
    "* Create the relative paths of each of these ten files by concatening the folder path to the file name (hint: iterate over each filename and use the `os.path.join()` function to create the relative path).\n"
   ]
  },
  {
   "cell_type": "code",
   "execution_count": null,
   "metadata": {},
   "outputs": [],
   "source": [
    "#Extract the Urls\n",
    "example = \"A copy of the terms can be found at www.acme.com/terms\"\n"
   ]
  },
  {
   "cell_type": "code",
   "execution_count": null,
   "metadata": {},
   "outputs": [],
   "source": [
    "# Get the data paths of the first 10 contracts from CUAD.\n"
   ]
  },
  {
   "cell_type": "markdown",
   "metadata": {},
   "source": [
    "#### 2.2\n",
    "\n",
    "Let's now define a function `read_contract()`to read our text file contracts. The function should take one argument `filepath` (the path to the text file).\n",
    "\n",
    "* First, load the file by using the Python `open()` function. Make sure to set the encoding parameter to `\"utf-8\"`or you'll have some formatting errors.\n",
    "* Save the content  of the file in a new variable using the `readlines()` function. It will save each line of the file into a list.\n",
    "* Append all these lines together and save the result in a new variable.\n",
    "* Make sure to remove all the subsequent whitespaces to get a nice-looking text."
   ]
  },
  {
   "cell_type": "code",
   "execution_count": null,
   "metadata": {},
   "outputs": [],
   "source": [
    "# Create a function that loads a contract.\n"
   ]
  },
  {
   "cell_type": "markdown",
   "metadata": {},
   "source": [
    "#### 2.3 Let's use that function to load our 10 contracts.\n",
    "\n",
    "* Create a new list variable `contracts` that will store the content of the contracts.\n",
    "* Iterate over each contract paths and load the corresponding contract using our `read_contract()` function.\n",
    "* Append the loaded contract to our list variable."
   ]
  },
  {
   "cell_type": "code",
   "execution_count": null,
   "metadata": {},
   "outputs": [],
   "source": [
    "# Load our 10 contracts."
   ]
  },
  {
   "cell_type": "markdown",
   "metadata": {},
   "source": [
    "#### 2.4 Let's create a new variable `contract1` that saves the first contract from our loaded contracts. Print its content."
   ]
  },
  {
   "cell_type": "code",
   "execution_count": null,
   "metadata": {},
   "outputs": [],
   "source": [
    "# Save the first contract in a new variable and print its content.\n"
   ]
  },
  {
   "cell_type": "markdown",
   "metadata": {},
   "source": [
    "#### 2.5 Let's extract entities from our 10 contracts.\n",
    "\n",
    "* Create a new list variable `to_extract` that contains the following elements: `['acts', 'companies',  'copyright', 'courts', 'cusip', 'conditions', 'dates', 'distances', 'durations', 'money', 'percents', 'pii', 'regulations', 'trademarks', 'urls']`\n",
    "* Create another list variable `outputs` that will store the extracted entities of each contract.\n",
    "* Iterate over each contract and extract their entities using the `extract()` function."
   ]
  },
  {
   "cell_type": "code",
   "execution_count": null,
   "metadata": {},
   "outputs": [],
   "source": [
    "# Extract entities from the contracts.\n"
   ]
  },
  {
   "cell_type": "markdown",
   "metadata": {},
   "source": [
    "#### 2.6 Let's focus on the extracted entities of the first contract. \n",
    "\n",
    "* Create a new variable `output1` that stores the extracted entities from our first contract.\n",
    "* Print all extracted elements of that contract by iterating over `output1`."
   ]
  },
  {
   "cell_type": "code",
   "execution_count": null,
   "metadata": {},
   "outputs": [],
   "source": [
    "# Print the extracted elements of the first contract.\n"
   ]
  },
  {
   "cell_type": "markdown",
   "metadata": {},
   "source": [
    "## 3. Visualization of the elements with spaCy\n",
    "\n",
    "[spaCy](https://spacy.io/) is a free open-source library for Natural Language Processing in Python. \n",
    "\n",
    "It supports 64+ languages, provides pre-trained word vectors, and allows to build custom components for various NLP tasks such as named entity recognition, part-of-speech tagging, dependency parsing, sentence segmentation, text classification, lemmatization, morphological analysis, entity linking and more.\n",
    "\n",
    "In this tutorial, we are interested in another feature of the library, namely its **displacy** visualizer for named entity recognition that let us see our extracted entities highlighted directly in the text."
   ]
  },
  {
   "cell_type": "code",
   "execution_count": null,
   "metadata": {},
   "outputs": [],
   "source": [
    "# Import spacy and displacy.\n",
    "import spacy\n",
    "from spacy import displacy"
   ]
  },
  {
   "cell_type": "markdown",
   "metadata": {},
   "source": [
    "With spaCy, once you’ve downloaded and installed a trained pipeline, you can load it via `spacy.load()`. This will return a *Language* object containing all components and data needed to process text. We usually call it `nlp`. If you don't need a speccific pipeline, it is also possible to load an empty one in the language of your choice. You can do so by using `spacy.blank()` and mention the language of interest (in our case, `\"en\"`) as parameter."
   ]
  },
  {
   "cell_type": "code",
   "execution_count": null,
   "metadata": {},
   "outputs": [],
   "source": [
    "# Load an empty spaCy pipeline in English called 'nlp'.\n",
    "nlp = spacy.blank(\"en\")"
   ]
  },
  {
   "cell_type": "markdown",
   "metadata": {},
   "source": [
    "The second step with spaCy is always to call the `nlp` object on a string of text. This will return a processed *Doc* object that we can work with."
   ]
  },
  {
   "cell_type": "code",
   "execution_count": null,
   "metadata": {},
   "outputs": [],
   "source": [
    "# Call the nlp object on our first contract 'contract1'. Save the result in a variable called 'doc'.\n",
    "doc = nlp(contract1)"
   ]
  },
  {
   "cell_type": "markdown",
   "metadata": {},
   "source": [
    "#### 3.1\n",
    "\n",
    "Now, let's add our extracted entities to our newly created spaCy *Doc* object. This will allow us to visualize them with displacy.\n",
    "\n",
    "* Create a new list variable that will store each spaCy *Span* (i.e., entity) object.\n",
    "* Iterate over the extracted entities from `output1` and create a new *Span* object for each one of them. To do so, use the `doc.char_span()` function that takes three arguments as inputs: \n",
    "    \n",
    "    1. the index of the first character of the entity;\n",
    "    2. the index of the last character of the entity;\n",
    "    3. the name of the entity.\n",
    "\n",
    "Refer to the documentation of spaCy's `Doc.char_span` here: https://spacy.io/api/doc#char_span \n",
    "\n",
    "* Append the newly created *Span* object to your list variable **after making sure that the output of `char_span()` is not None**.\n",
    "* Finally, save your list of *Span* object in `doc.ents`."
   ]
  },
  {
   "cell_type": "code",
   "execution_count": null,
   "metadata": {},
   "outputs": [],
   "source": [
    "# Create the spaCy Span objects from the extracted entities of the first contract.\n",
    "ents = [] # we want to append the entities returned by spacy's char_span() function in this list\n",
    "for element in output1:\n",
    "    ent = #complete code\n",
    "    #complete code\n",
    "\n",
    "doc.ents = ents\n",
    "    "
   ]
  },
  {
   "cell_type": "markdown",
   "metadata": {},
   "source": [
    "#### 3.2\n",
    "It's now time to display the contract with its entities highlighted.\n",
    "\n",
    "* First, import the `ENTITIES_CONFIG` macro from our script `utils`.\n",
    "* Then, display the entities on the contract by running:\n",
    "\n",
    "```python\n",
    "displacy.render(doc, style=\"ent\", jupyter=True, options=ENTITIES_CONFIG)\n",
    "```"
   ]
  },
  {
   "cell_type": "code",
   "execution_count": null,
   "metadata": {},
   "outputs": [],
   "source": [
    "# Render the contract with extracted entities highlighted.\n"
   ]
  },
  {
   "cell_type": "markdown",
   "metadata": {},
   "source": [
    "## 4. Saving the contract elements with Pandas"
   ]
  },
  {
   "cell_type": "code",
   "execution_count": null,
   "metadata": {},
   "outputs": [],
   "source": [
    "# Import the pandas library\n",
    "import pandas as pd"
   ]
  },
  {
   "cell_type": "markdown",
   "metadata": {},
   "source": [
    "#### 4.1\n",
    "Let's create a function `create_row_data()` that takes as inputs three parameters:\n",
    "\n",
    "1. `extracted_entities`: the list of extracted entities (in the form {'type':..., 'element':..., 'location':...}) for a given contract.\n",
    "2. `entity_names`: the list of types of entity that were extracted (NB: you can reuse the value of our previously created variable `to_extract`).\n",
    "3. `contract_name`: the name of the given contract.\n",
    "\n",
    "* First, create an empty dictionary called `row_data` whose keys are the values from `entity_names`. To do so, use the `dict.fromkeys()` function.\n",
    "* Then, add a new key-value pair to that dictionary corresponding to the contract name (i.e., the key should be `name` and the associated value should correspond to the value of our passed argument `contract_name`).\n",
    "* Next, iterate over each extracted entity and save its type and element.\n",
    "* Finally, append the element to the previously saved value of the dictionary at the corresponding key (aka type). Separate the different string elements using the '[SEP]' token."
   ]
  },
  {
   "cell_type": "code",
   "execution_count": null,
   "metadata": {},
   "outputs": [],
   "source": [
    "# Create the function create_row_data().\n",
    "def create_row_data(extracted_entities, entity_names, contract_name):\n",
    "    row_data = dict.fromkeys(entity_names, \"\")\n",
    "    #complete code here\n",
    "    \n",
    "    \n",
    "    \n",
    "    return row_data"
   ]
  },
  {
   "cell_type": "markdown",
   "metadata": {},
   "source": [
    "#### 4.2\n",
    "Let's now use our `create_row_data()` function on each of the extracted outputs (for each contract).\n",
    "\n",
    "* Create an empty list variable `data` that will store the different row data.\n",
    "* Iterate over the different `outputs` and `filenames` at the same time. You can do so by using the `zip()`function.\n",
    "* For each output, use `create_row_data()` to create the contract dictionary.\n",
    "* Append that dictionary to our newly created list variable `data`."
   ]
  },
  {
   "cell_type": "code",
   "execution_count": null,
   "metadata": {},
   "outputs": [],
   "source": [
    "# Use the create_row_data() function to create a list of row data for our contracts.\n",
    "data=[]\n",
    "for out, name in zip(outputs, filenames):\n",
    "    #complete code\n",
    "    #complete code"
   ]
  },
  {
   "cell_type": "markdown",
   "metadata": {},
   "source": [
    "#### 4.3\n",
    "Let's create a pandas dataframe `df`. You can do so by passing `data` to `pd.DataFrame()`."
   ]
  },
  {
   "cell_type": "code",
   "execution_count": null,
   "metadata": {},
   "outputs": [],
   "source": [
    "# Create a pandas dataframe.\n"
   ]
  },
  {
   "cell_type": "markdown",
   "metadata": {},
   "source": [
    "Replace the empty strings in the dataframe by `nan` values. You can do so by using the `replace()` function with the following regex expression: `r'^\\s*$'` ('r' means what follows will be a regex expression, '^' indicates the start of a string, '\\s' indicates a whitespace, '*' indicates that there might be multiple ones, and '$' indicates the end of a string).\n",
    "\n",
    "NB: make sure to set the `regex` parameter to True."
   ]
  },
  {
   "cell_type": "code",
   "execution_count": null,
   "metadata": {},
   "outputs": [],
   "source": [
    "# Replace empty strings by NaN.\n"
   ]
  },
  {
   "cell_type": "markdown",
   "metadata": {},
   "source": [
    "## 5. Querying the dataframe"
   ]
  },
  {
   "cell_type": "markdown",
   "metadata": {},
   "source": [
    "Let's finish the tutorial by querying our new dataframe. For example, let's get all the contracts that deal with the **\"21 U.S.C.\"** regulation. \n",
    "\n",
    "Remember, values in a specific column are not unique entities, but the concatenation of multiple ones separated by the [SEP] token. Therefore, to check wheter or not one specific value appears in a column, we first have to get each value in a cell by splitting according to that [SEP] token.\n",
    "\n",
    "#### 5.1\n",
    "First, we need to drop all rows that have missing values for the `regulations` column (hint: filter user the `notna()` function). The new dataframe after dropping the rows should be called `filtered_df`"
   ]
  },
  {
   "cell_type": "code",
   "execution_count": null,
   "metadata": {},
   "outputs": [],
   "source": [
    "# Drop rows where 'regulations' column has no value.\n"
   ]
  },
  {
   "cell_type": "markdown",
   "metadata": {},
   "source": [
    "#### 5.2\n",
    "Let's now create a condition where we'll split each 'regulations' value according to the [SEP] token and check for each split element if it contains the \"21 U.S.C.\" string.\n",
    "\n",
    "* Use a *lambda* function of the form: `lambda x: ...`, where x represents a 'regulations' value. \n",
    "* First, you want to split the 'regulations' value according to the [SEP] token. Use the `split()` function.\n",
    "* Then, you want to check in your output list (containing the split values) if they contain \"21 U.S.C.\". Use the `str.contains()`function. Refer to the documentation here: https://pandas.pydata.org/docs/reference/api/pandas.Series.str.contains.html\n",
    "* Save your lambda function in a variable called `by_value_condition`.\n",
    "* Finally, apply your condition (lambda function) on the 'regulations' column of your dataframe. Use the `apply()` function."
   ]
  },
  {
   "cell_type": "code",
   "execution_count": null,
   "metadata": {},
   "outputs": [],
   "source": [
    "# Create a by-value condition with a lambda function and filter the dataframe accordingly.\n"
   ]
  },
  {
   "cell_type": "markdown",
   "metadata": {},
   "source": [
    "#### 5.3\n",
    "Create a new condition called `overall_condition` that reuses the previous one but adds the `.any()` at the end. Apply that condition (lambda function) to the 'regulations' column."
   ]
  },
  {
   "cell_type": "code",
   "execution_count": null,
   "metadata": {},
   "outputs": [],
   "source": [
    "# Create an overall condition with a lambda function and filter the dataframe accordingly.\n"
   ]
  },
  {
   "cell_type": "markdown",
   "metadata": {},
   "source": [
    "#### 5.4\n",
    "Next, select the rows from the dataframe that statisfy that overall condition."
   ]
  },
  {
   "cell_type": "code",
   "execution_count": null,
   "metadata": {},
   "outputs": [],
   "source": [
    "# Select the rows where the condition holds.\n"
   ]
  },
  {
   "cell_type": "markdown",
   "metadata": {},
   "source": [
    "#### 5.5\n",
    "Finally, print the names of the corresponding contracts."
   ]
  },
  {
   "cell_type": "code",
   "execution_count": null,
   "metadata": {},
   "outputs": [],
   "source": [
    "# Print the corresponding contract names.\n"
   ]
  }
 ],
 "metadata": {
  "interpreter": {
   "hash": "5dc0ffa808ed4ac25a73b8525a9bbc6a7d2dcbd6984084452e90a0bbd0ff714a"
  },
  "kernelspec": {
   "display_name": "Python 3",
   "language": "python",
   "name": "python3"
  },
  "language_info": {
   "codemirror_mode": {
    "name": "ipython",
    "version": 3
   },
   "file_extension": ".py",
   "mimetype": "text/x-python",
   "name": "python",
   "nbconvert_exporter": "python",
   "pygments_lexer": "ipython3",
   "version": "3.6.12"
  }
 },
 "nbformat": 4,
 "nbformat_minor": 2
}
