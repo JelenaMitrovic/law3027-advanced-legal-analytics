{
 "cells": [
  {
   "cell_type": "markdown",
   "id": "2277d247",
   "metadata": {},
   "source": [
    "# Advanced Legal Analytics (2021/22)\n",
    "# LAW 3027 Tutorial 5: Introduction to Linear Regression and Classification\n",
    "\n",
    "\n",
    "#### Intended Learning Outcomes:\n",
    "This notebook provides a gentle introduction to 2 major types of supervised learning techniques: Linear Regression & Classification. \n",
    "By the end of this notebook you will know how to:\n",
    "- Peform Regression Analysis to model the linear relationship between an independent and dependent variable\n",
    "- Interpret the regression model and its parameters\n",
    "- Perform and evaluate Classification technique of Machine learning using the K-Nearest Neighbours model\n",
    "\n",
    "#### Libraries to be used:\n",
    "You can activate your previously used environment, though you will not use most packages from that environment. In this tutorial, we will use only the most commonly used python libraries such as: `pandas`, `numpy`, `matplotlib`, `scipy`, `seaborn` etc. \n",
    "\n",
    "We will use the Machine Learning library of Python, called Scikit Learn. You can use `pip` to install it. See the instructions here: https://scikit-learn.org/stable/install.html"
   ]
  },
  {
   "cell_type": "markdown",
   "id": "5aa37486",
   "metadata": {},
   "source": [
    "#### 1.1\n",
    "The model for a linear regression is described by the following formula:\n",
    "\n",
    "$\\hat{y_i} = \\hat{\\beta_0} + \\hat{\\beta_1}x_i $\n",
    "\n",
    "\n",
    "which describes the relationship between two variables $x$ and $y$ (the subscript $i$ is a variable that represents the index of a given data point). Can you see from the formula why this model is a _linear_ regression?\n",
    "\n",
    "In linear regression, one variable is called independent and another is dependent. Just looking at how the formula is written;  \n",
    "\n",
    "Which variable do you think is the dependent variable and which is the independent variable?\n",
    "\n",
    "What are the other terms $\\hat{\\beta_0}$ and $\\hat{\\beta_1}$ ? "
   ]
  },
  {
   "cell_type": "markdown",
   "id": "0b547b80",
   "metadata": {},
   "source": [
    "#### 1.2 What is a least squares regression line ?\n",
    "\n",
    "Watch the video below and discuss the findings with your partner or group member. \n",
    "\n",
    "Video: https://www.youtube.com/watch?v=jEEJNz0RK4Q \n",
    "\n",
    "- Which regression line do you think best fits the data?\n",
    "- How might you check? "
   ]
  },
  {
   "cell_type": "markdown",
   "id": "49d09862",
   "metadata": {},
   "source": [
    "#### 2 The Swedish Auto Insurance Problem\n",
    "\n",
    "The Swedish Auto Insurance Dataset involves predicting the total payment for all claims in thousands of Swedish Kronor, given the total number of claims. It is a regression problem. It is comprised of 63 observations with 1 input variable and one output variable. The variable names are as follows:\n",
    "\n",
    "- X = Number of claims.\n",
    "- Y = Total payment for all claims in thousands of Swedish Kronor.\n",
    "\n",
    "#### 2.1 Load the dataset\n",
    "The dataset is available at the following url:https://raw.githubusercontent.com/maastrichtlawtech/law3027-advanced-legal-analytics/main/data/insurance.csv' \n",
    "\n",
    "Load the dataset using pandas. Create a dataframe, called `df_insurance` to load the data. "
   ]
  },
  {
   "cell_type": "markdown",
   "id": "ec0e7cfe",
   "metadata": {},
   "source": [
    "#### 2.2 Inspect the data, do and exploratory data analysis and remove any anomalies (missing values, invalid values, etc.) "
   ]
  },
  {
   "cell_type": "markdown",
   "id": "76012ad7",
   "metadata": {},
   "source": [
    "#### 2.3 Peform a Visual Exploratory data analysis\n",
    "\n",
    "Conduct a univariate visual exploratory data analysis on the dataset(you can plot the histograms, cumulative/probability distribution plots etc (feel free to recall the tutorial on Visual Exploratory Analysis from Legal Analytics Course).\n",
    "\n",
    "What are your observations. Did you find some outliers? "
   ]
  },
  {
   "cell_type": "markdown",
   "id": "9b3922cc",
   "metadata": {},
   "source": [
    "#### 2.4 Perform a Correlation Analysis between the two variables: Number of claims and Payment for all claims in Swedish Kronor\n",
    "\n",
    "- Make a scattert plot between the two variables\n",
    "- Compute the Pearson Correlation Coefficient between the two variables\n",
    "\n",
    "- What are your observations? Is there a linear relationship between the two variables ?\n",
    "- What is the magnitude of the correlation coefficient ?"
   ]
  },
  {
   "cell_type": "markdown",
   "id": "80a2f0ca",
   "metadata": {},
   "source": [
    "#### 2.5 Preparing the data for Linear Regression\n",
    "The variable names are as follows:\n",
    "\n",
    "- X (Independent Variable) = Number of claims. \n",
    "- Y (Dependent Variable) = Total payment for all claims in thousands of Swedish Kronor."
   ]
  },
  {
   "cell_type": "code",
   "execution_count": 7,
   "id": "a0ffe84b",
   "metadata": {},
   "outputs": [
    {
     "name": "stdout",
     "output_type": "stream",
     "text": [
      "[108  19  13 124  40  57  23  14  45  10   5  48  11  23   7   2  24   6\n",
      "   3  23   6   9   9   3  29   7   4  20   7   4   0  25   6   5  22  11\n",
      "  61  12   4  16  13  60  41  37  55  41  11  27   8   3  17  13  13  15\n",
      "   8  29  30  24   9  31  14  53  26] (63,) 1\n"
     ]
    }
   ],
   "source": [
    "import numpy as np\n",
    "X = df_insurance['Number_of_claims'].values\n",
    "y = df_insurance['Payment_for_all_claims_in_Swedish_Kronor'].values\n",
    "print(X,X.shape, X.ndim)"
   ]
  },
  {
   "cell_type": "code",
   "execution_count": 8,
   "id": "064f8455",
   "metadata": {},
   "outputs": [
    {
     "name": "stdout",
     "output_type": "stream",
     "text": [
      "[[108]\n",
      " [ 19]\n",
      " [ 13]\n",
      " [124]\n",
      " [ 40]\n",
      " [ 57]\n",
      " [ 23]\n",
      " [ 14]\n",
      " [ 45]\n",
      " [ 10]\n",
      " [  5]\n",
      " [ 48]\n",
      " [ 11]\n",
      " [ 23]\n",
      " [  7]\n",
      " [  2]\n",
      " [ 24]\n",
      " [  6]\n",
      " [  3]\n",
      " [ 23]\n",
      " [  6]\n",
      " [  9]\n",
      " [  9]\n",
      " [  3]\n",
      " [ 29]\n",
      " [  7]\n",
      " [  4]\n",
      " [ 20]\n",
      " [  7]\n",
      " [  4]\n",
      " [  0]\n",
      " [ 25]\n",
      " [  6]\n",
      " [  5]\n",
      " [ 22]\n",
      " [ 11]\n",
      " [ 61]\n",
      " [ 12]\n",
      " [  4]\n",
      " [ 16]\n",
      " [ 13]\n",
      " [ 60]\n",
      " [ 41]\n",
      " [ 37]\n",
      " [ 55]\n",
      " [ 41]\n",
      " [ 11]\n",
      " [ 27]\n",
      " [  8]\n",
      " [  3]\n",
      " [ 17]\n",
      " [ 13]\n",
      " [ 13]\n",
      " [ 15]\n",
      " [  8]\n",
      " [ 29]\n",
      " [ 30]\n",
      " [ 24]\n",
      " [  9]\n",
      " [ 31]\n",
      " [ 14]\n",
      " [ 53]\n",
      " [ 26]] (63, 1) 2\n"
     ]
    }
   ],
   "source": [
    "#scikit-learn expects a 2-D array\n",
    "X = X.reshape((len(X), 1))\n",
    "print(X, X.shape, X.ndim)"
   ]
  },
  {
   "cell_type": "markdown",
   "id": "b69e9c7e",
   "metadata": {},
   "source": [
    "#### 2.6 Do the train-test split. Set the train_size = 0.8 (80% training and 20% testing set)"
   ]
  },
  {
   "cell_type": "code",
   "execution_count": 9,
   "id": "aa8abdae",
   "metadata": {},
   "outputs": [],
   "source": [
    "from sklearn.linear_model import LinearRegression\n",
    "from sklearn.model_selection import train_test_split\n",
    "X_train, X_test, y_train, y_test = train_test_split(X, y, train_size = 0.8, random_state = 0)"
   ]
  },
  {
   "cell_type": "markdown",
   "id": "bd791a59",
   "metadata": {},
   "source": [
    "Note that we have split `X` into 2 parts: `X_train` and `X_test`. \n",
    "Similarly we have also split `y` into 2 parts: `y_train` and `y_test`"
   ]
  },
  {
   "cell_type": "markdown",
   "id": "d6b11e42",
   "metadata": {},
   "source": [
    "#### 2.7 Train the Linear Regression Model"
   ]
  },
  {
   "cell_type": "code",
   "execution_count": 10,
   "id": "4eefb2b5",
   "metadata": {},
   "outputs": [],
   "source": [
    "reg = LinearRegression().fit(X_train, y_train)"
   ]
  },
  {
   "cell_type": "markdown",
   "id": "e01aef50",
   "metadata": {},
   "source": [
    "#### 2.8 Compute the Slope and the Intercept"
   ]
  },
  {
   "cell_type": "code",
   "execution_count": 11,
   "id": "558ffde0",
   "metadata": {},
   "outputs": [
    {
     "name": "stdout",
     "output_type": "stream",
     "text": [
      "Slope:[3.34637674]\n",
      "Intercept:19.285103078189863\n"
     ]
    }
   ],
   "source": [
    "print(\"Slope:{}\".format(reg.coef_)) #underscore denotes that a quantity has been derived from training data\n",
    "print(\"Intercept:{}\".format(reg.intercept_))"
   ]
  },
  {
   "cell_type": "markdown",
   "id": "ee23baba",
   "metadata": {},
   "source": [
    "Interpretation of the Slope: For each additional claim, the payment increases by 3.34 thousands of Swedish Kronor. "
   ]
  },
  {
   "cell_type": "markdown",
   "id": "0541f9bc",
   "metadata": {},
   "source": [
    "#### 2.9 Make the predictions on the test set\n",
    "\n",
    "We will use the trained linear regression model, `reg` to make predictions on the `x` values in the test set. The `x` values in the test set are given by `X_test`. The `y` values predictions on the `X_test` are stored in `y_pred` as indicated below."
   ]
  },
  {
   "cell_type": "code",
   "execution_count": 12,
   "id": "f81b3e35",
   "metadata": {},
   "outputs": [],
   "source": [
    "y_pred = reg.predict(X_test) #the predictions on the test set are stored in y_pred"
   ]
  },
  {
   "cell_type": "markdown",
   "id": "af61b695",
   "metadata": {},
   "source": [
    "#### 2.10 Predict the value of payment for an example value of the number of claims\n",
    "What will be the payment for say, 56 claims ?"
   ]
  },
  {
   "cell_type": "code",
   "execution_count": 13,
   "id": "d8b43707",
   "metadata": {},
   "outputs": [
    {
     "data": {
      "text/plain": [
       "array([206.68220073])"
      ]
     },
     "execution_count": 13,
     "metadata": {},
     "output_type": "execute_result"
    }
   ],
   "source": [
    "reg.predict([[56]])"
   ]
  },
  {
   "cell_type": "markdown",
   "id": "5ab64913",
   "metadata": {},
   "source": [
    "#### 2.11 Plot the predicted values for the test set using the Linear Regression Model (You need to plot the least squares regression line). Also plot the acutal test data."
   ]
  },
  {
   "cell_type": "markdown",
   "id": "5fbf05b9",
   "metadata": {},
   "source": [
    "#### 2.12 Compute the mean squared error and the R2 score"
   ]
  },
  {
   "cell_type": "code",
   "execution_count": 15,
   "id": "e398b7f2",
   "metadata": {},
   "outputs": [
    {
     "name": "stdout",
     "output_type": "stream",
     "text": [
      "Mean squared error: 1813.5036286855975\n",
      "Coefficient of determination or R2 Score: 0.6709172184615007\n"
     ]
    }
   ],
   "source": [
    "from sklearn.metrics import mean_squared_error, r2_score\n",
    "print('Mean squared error: {}'.format(mean_squared_error(y_test, y_pred)))\n",
    "print('Coefficient of determination or R2 Score: {}'.format(r2_score(y_test, y_pred)))"
   ]
  },
  {
   "cell_type": "markdown",
   "id": "0b82bfb9",
   "metadata": {},
   "source": [
    "#### 3. Regression to predict the Crime Rate"
   ]
  },
  {
   "cell_type": "markdown",
   "id": "2a555940",
   "metadata": {},
   "source": [
    "The dataset consists of observations from the year 1987 for the crime rate in a particular State `X`. The State consists of counties. The dataset is available here: https://raw.githubusercontent.com/maastrichtlawtech/law3027-advanced-legal-analytics/main/data/crime_1987.csv . The data is aggregated by county. \n",
    "\n",
    "#### 3.1 Build Upon the Tutorial 4's Correlation Analysis and Train a Linear Regression Model using the most correlated feature with `crmrte`"
   ]
  },
  {
   "cell_type": "markdown",
   "id": "fcddac7a",
   "metadata": {},
   "source": [
    "## 4. Classification\n",
    "\n",
    "This is an object recognition task in which you will train a supervised machine learning classifier to identify a fruit type based on certain features such as mass, width, height and color score."
   ]
  },
  {
   "cell_type": "markdown",
   "id": "7bbb69b1",
   "metadata": {},
   "source": [
    "#### 4.1 Read the dataset\n",
    "The dataset is available here: https://raw.githubusercontent.com/maastrichtlawtech/law3027-advanced-legal-analytics/main/data/fruit_data_with_colours.csv"
   ]
  },
  {
   "cell_type": "code",
   "execution_count": 16,
   "id": "c5056b6c",
   "metadata": {},
   "outputs": [
    {
     "data": {
      "text/html": [
       "<div>\n",
       "<style scoped>\n",
       "    .dataframe tbody tr th:only-of-type {\n",
       "        vertical-align: middle;\n",
       "    }\n",
       "\n",
       "    .dataframe tbody tr th {\n",
       "        vertical-align: top;\n",
       "    }\n",
       "\n",
       "    .dataframe thead th {\n",
       "        text-align: right;\n",
       "    }\n",
       "</style>\n",
       "<table border=\"1\" class=\"dataframe\">\n",
       "  <thead>\n",
       "    <tr style=\"text-align: right;\">\n",
       "      <th></th>\n",
       "      <th>fruit_label</th>\n",
       "      <th>fruit_name</th>\n",
       "      <th>fruit_subtype</th>\n",
       "      <th>mass</th>\n",
       "      <th>width</th>\n",
       "      <th>height</th>\n",
       "      <th>color_score</th>\n",
       "    </tr>\n",
       "  </thead>\n",
       "  <tbody>\n",
       "    <tr>\n",
       "      <th>0</th>\n",
       "      <td>1</td>\n",
       "      <td>apple</td>\n",
       "      <td>granny_smith</td>\n",
       "      <td>192</td>\n",
       "      <td>8.4</td>\n",
       "      <td>7.3</td>\n",
       "      <td>0.55</td>\n",
       "    </tr>\n",
       "    <tr>\n",
       "      <th>1</th>\n",
       "      <td>1</td>\n",
       "      <td>apple</td>\n",
       "      <td>granny_smith</td>\n",
       "      <td>180</td>\n",
       "      <td>8.0</td>\n",
       "      <td>6.8</td>\n",
       "      <td>0.59</td>\n",
       "    </tr>\n",
       "    <tr>\n",
       "      <th>2</th>\n",
       "      <td>1</td>\n",
       "      <td>apple</td>\n",
       "      <td>granny_smith</td>\n",
       "      <td>176</td>\n",
       "      <td>7.4</td>\n",
       "      <td>7.2</td>\n",
       "      <td>0.60</td>\n",
       "    </tr>\n",
       "    <tr>\n",
       "      <th>3</th>\n",
       "      <td>2</td>\n",
       "      <td>mandarin</td>\n",
       "      <td>mandarin</td>\n",
       "      <td>86</td>\n",
       "      <td>6.2</td>\n",
       "      <td>4.7</td>\n",
       "      <td>0.80</td>\n",
       "    </tr>\n",
       "    <tr>\n",
       "      <th>4</th>\n",
       "      <td>2</td>\n",
       "      <td>mandarin</td>\n",
       "      <td>mandarin</td>\n",
       "      <td>84</td>\n",
       "      <td>6.0</td>\n",
       "      <td>4.6</td>\n",
       "      <td>0.79</td>\n",
       "    </tr>\n",
       "  </tbody>\n",
       "</table>\n",
       "</div>"
      ],
      "text/plain": [
       "   fruit_label fruit_name fruit_subtype  mass  width  height  color_score\n",
       "0            1      apple  granny_smith   192    8.4     7.3         0.55\n",
       "1            1      apple  granny_smith   180    8.0     6.8         0.59\n",
       "2            1      apple  granny_smith   176    7.4     7.2         0.60\n",
       "3            2   mandarin      mandarin    86    6.2     4.7         0.80\n",
       "4            2   mandarin      mandarin    84    6.0     4.6         0.79"
      ]
     },
     "execution_count": 16,
     "metadata": {},
     "output_type": "execute_result"
    }
   ],
   "source": [
    "url_fruits_db ='https://raw.githubusercontent.com/maastrichtlawtech/law3027-advanced-legal-analytics/main/data/fruit_data_with_colours.csv'\n",
    "df_fruits = pd.read_csv(url_fruits_db)\n",
    "df_fruits.head()"
   ]
  },
  {
   "cell_type": "markdown",
   "id": "2aff83f7",
   "metadata": {},
   "source": [
    "#### 4.2 Find out how many unique types of fruits are in the dataset ?"
   ]
  },
  {
   "cell_type": "code",
   "execution_count": 17,
   "id": "c9f73056",
   "metadata": {},
   "outputs": [
    {
     "data": {
      "text/plain": [
       "array(['apple', 'mandarin', 'orange', 'lemon'], dtype=object)"
      ]
     },
     "execution_count": 17,
     "metadata": {},
     "output_type": "execute_result"
    }
   ],
   "source": [
    "df_fruits['fruit_name'].unique()"
   ]
  },
  {
   "cell_type": "code",
   "execution_count": 18,
   "id": "0808a873",
   "metadata": {},
   "outputs": [
    {
     "data": {
      "text/plain": [
       "array([1, 2, 3, 4])"
      ]
     },
     "execution_count": 18,
     "metadata": {},
     "output_type": "execute_result"
    }
   ],
   "source": [
    "df_fruits['fruit_label'].unique()"
   ]
  },
  {
   "cell_type": "markdown",
   "id": "2f6da770",
   "metadata": {},
   "source": [
    "#### 4.3 Which label belongs to which fruit?\n",
    "\n",
    "So, there are 4 types of fruits and we also have 4 fruit labels. Imagine if this dataset (in real life) contained hundreds of fruits, how would you know which label belongs to which fruit ?\n",
    "\n",
    "For this we will create a dictionary which maps fruits labels to fruit names."
   ]
  },
  {
   "cell_type": "code",
   "execution_count": 19,
   "id": "d38b66ef",
   "metadata": {},
   "outputs": [
    {
     "data": {
      "text/plain": [
       "{1: 'apple', 2: 'mandarin', 3: 'orange', 4: 'lemon'}"
      ]
     },
     "execution_count": 19,
     "metadata": {},
     "output_type": "execute_result"
    }
   ],
   "source": [
    "dict_mapping_fruits = dict(zip(df_fruits['fruit_label'].unique(),df_fruits['fruit_name'].unique()))\n",
    "dict_mapping_fruits"
   ]
  },
  {
   "cell_type": "markdown",
   "id": "b8c58e6a",
   "metadata": {},
   "source": [
    "#### 4.4 Choose the features and the target variable\n",
    "X represents the input features and y represents the target variable whose value needs to be predicted."
   ]
  },
  {
   "cell_type": "code",
   "execution_count": 20,
   "id": "51db8807",
   "metadata": {},
   "outputs": [],
   "source": [
    "features_columns = ['mass','width','height','color_score'] # the features we have selected from the dataset\n",
    "X = df_fruits[features_columns] # x contains the columns of the selected features: mass, width, height, color_score\n",
    "y = df_fruits['fruit_label'] # y contains the fruit names"
   ]
  },
  {
   "cell_type": "code",
   "execution_count": 21,
   "id": "a1b55667",
   "metadata": {},
   "outputs": [
    {
     "data": {
      "text/html": [
       "<div>\n",
       "<style scoped>\n",
       "    .dataframe tbody tr th:only-of-type {\n",
       "        vertical-align: middle;\n",
       "    }\n",
       "\n",
       "    .dataframe tbody tr th {\n",
       "        vertical-align: top;\n",
       "    }\n",
       "\n",
       "    .dataframe thead th {\n",
       "        text-align: right;\n",
       "    }\n",
       "</style>\n",
       "<table border=\"1\" class=\"dataframe\">\n",
       "  <thead>\n",
       "    <tr style=\"text-align: right;\">\n",
       "      <th></th>\n",
       "      <th>mass</th>\n",
       "      <th>width</th>\n",
       "      <th>height</th>\n",
       "      <th>color_score</th>\n",
       "    </tr>\n",
       "  </thead>\n",
       "  <tbody>\n",
       "    <tr>\n",
       "      <th>0</th>\n",
       "      <td>192</td>\n",
       "      <td>8.4</td>\n",
       "      <td>7.3</td>\n",
       "      <td>0.55</td>\n",
       "    </tr>\n",
       "    <tr>\n",
       "      <th>1</th>\n",
       "      <td>180</td>\n",
       "      <td>8.0</td>\n",
       "      <td>6.8</td>\n",
       "      <td>0.59</td>\n",
       "    </tr>\n",
       "    <tr>\n",
       "      <th>2</th>\n",
       "      <td>176</td>\n",
       "      <td>7.4</td>\n",
       "      <td>7.2</td>\n",
       "      <td>0.60</td>\n",
       "    </tr>\n",
       "    <tr>\n",
       "      <th>3</th>\n",
       "      <td>86</td>\n",
       "      <td>6.2</td>\n",
       "      <td>4.7</td>\n",
       "      <td>0.80</td>\n",
       "    </tr>\n",
       "    <tr>\n",
       "      <th>4</th>\n",
       "      <td>84</td>\n",
       "      <td>6.0</td>\n",
       "      <td>4.6</td>\n",
       "      <td>0.79</td>\n",
       "    </tr>\n",
       "  </tbody>\n",
       "</table>\n",
       "</div>"
      ],
      "text/plain": [
       "   mass  width  height  color_score\n",
       "0   192    8.4     7.3         0.55\n",
       "1   180    8.0     6.8         0.59\n",
       "2   176    7.4     7.2         0.60\n",
       "3    86    6.2     4.7         0.80\n",
       "4    84    6.0     4.6         0.79"
      ]
     },
     "execution_count": 21,
     "metadata": {},
     "output_type": "execute_result"
    }
   ],
   "source": [
    "#Print the features, X\n",
    "X.head()"
   ]
  },
  {
   "cell_type": "code",
   "execution_count": 22,
   "id": "ac56087e",
   "metadata": {},
   "outputs": [
    {
     "data": {
      "text/plain": [
       "0    1\n",
       "1    1\n",
       "2    1\n",
       "3    2\n",
       "4    2\n",
       "Name: fruit_label, dtype: int64"
      ]
     },
     "execution_count": 22,
     "metadata": {},
     "output_type": "execute_result"
    }
   ],
   "source": [
    "#Print the target variable, y\n",
    "y.head()"
   ]
  },
  {
   "cell_type": "markdown",
   "id": "9b36c834",
   "metadata": {},
   "source": [
    "#### 4.5 Split the dataset into training and test set (75% training and 25% training)"
   ]
  },
  {
   "cell_type": "code",
   "execution_count": 23,
   "id": "4da0d4ce",
   "metadata": {},
   "outputs": [
    {
     "name": "stdout",
     "output_type": "stream",
     "text": [
      "Length of the training set: 44\n",
      "Length of the test set: 15\n"
     ]
    }
   ],
   "source": [
    "X_train, X_test, y_train, y_test = train_test_split(X, y, random_state=0, test_size=0.25)\n",
    "len_train = len(X_train)\n",
    "len_test = len(X_test)\n",
    "print(\"Length of the training set: {}\".format(len_train))\n",
    "print(\"Length of the test set: {}\".format(len_test))"
   ]
  },
  {
   "cell_type": "markdown",
   "id": "add47779",
   "metadata": {},
   "source": [
    "#### 4.6 Train the KNN Classifier\n"
   ]
  },
  {
   "cell_type": "code",
   "execution_count": 24,
   "id": "382f996a",
   "metadata": {},
   "outputs": [
    {
     "data": {
      "text/plain": [
       "KNeighborsClassifier()"
      ]
     },
     "execution_count": 24,
     "metadata": {},
     "output_type": "execute_result"
    }
   ],
   "source": [
    "from sklearn.neighbors import KNeighborsClassifier\n",
    "neigh = KNeighborsClassifier(n_neighbors = 5) # we set n_neigbours=5\n",
    "neigh.fit(X_train, y_train)"
   ]
  },
  {
   "cell_type": "markdown",
   "id": "be77af0e",
   "metadata": {},
   "source": [
    "#### 4.7 Compute the accuracy of the classifier on test data"
   ]
  },
  {
   "cell_type": "code",
   "execution_count": 25,
   "id": "380d075d",
   "metadata": {},
   "outputs": [
    {
     "data": {
      "text/plain": [
       "0.5333333333333333"
      ]
     },
     "execution_count": 25,
     "metadata": {},
     "output_type": "execute_result"
    }
   ],
   "source": [
    "neigh.score(X_test, y_test)"
   ]
  },
  {
   "cell_type": "markdown",
   "id": "d863d03c",
   "metadata": {},
   "source": [
    "#### 4.8 Print the confusion matrix. Compute the precision, recall and F-Score"
   ]
  },
  {
   "cell_type": "code",
   "execution_count": 26,
   "id": "9e0bd90e",
   "metadata": {},
   "outputs": [
    {
     "data": {
      "text/plain": [
       "<sklearn.metrics._plot.confusion_matrix.ConfusionMatrixDisplay at 0x7fa373b4a358>"
      ]
     },
     "execution_count": 26,
     "metadata": {},
     "output_type": "execute_result"
    },
    {
     "data": {
      "image/png": "[encoded data removed]",
      "text/plain": [
       "<Figure size 432x288 with 2 Axes>"
      ]
     },
     "metadata": {
      "needs_background": "light"
     },
     "output_type": "display_data"
    }
   ],
   "source": [
    "from sklearn.metrics import confusion_matrix, classification_report, plot_confusion_matrix\n",
    "\n",
    "y_pred = neigh.predict(X_test)\n",
    "plot_confusion_matrix(neigh, X_test, y_test) "
   ]
  },
  {
   "cell_type": "code",
   "execution_count": 27,
   "id": "32d69090",
   "metadata": {},
   "outputs": [
    {
     "data": {
      "text/plain": [
       "array([[3, 0, 0, 1],\n",
       "       [0, 1, 0, 0],\n",
       "       [3, 0, 3, 2],\n",
       "       [0, 0, 1, 1]])"
      ]
     },
     "execution_count": 27,
     "metadata": {},
     "output_type": "execute_result"
    }
   ],
   "source": [
    "confusion_matrix(y_test, y_pred)"
   ]
  },
  {
   "cell_type": "code",
   "execution_count": 28,
   "id": "1f2899a2",
   "metadata": {},
   "outputs": [
    {
     "name": "stdout",
     "output_type": "stream",
     "text": [
      "              precision    recall  f1-score   support\n",
      "\n",
      "           1       0.50      0.75      0.60         4\n",
      "           2       1.00      1.00      1.00         1\n",
      "           3       0.75      0.38      0.50         8\n",
      "           4       0.25      0.50      0.33         2\n",
      "\n",
      "    accuracy                           0.53        15\n",
      "   macro avg       0.62      0.66      0.61        15\n",
      "weighted avg       0.63      0.53      0.54        15\n",
      "\n"
     ]
    }
   ],
   "source": [
    "print(classification_report(y_test, y_pred))"
   ]
  },
  {
   "cell_type": "markdown",
   "id": "a24df390",
   "metadata": {},
   "source": [
    "#### 4.9 Use the trained classifier to classify new unseen instances"
   ]
  },
  {
   "cell_type": "code",
   "execution_count": 29,
   "id": "087ac5b6",
   "metadata": {},
   "outputs": [
    {
     "data": {
      "text/plain": [
       "array([3])"
      ]
     },
     "execution_count": 29,
     "metadata": {},
     "output_type": "execute_result"
    }
   ],
   "source": [
    "unknown_fruit_1 = [300,200,300,0.7]\n",
    "neigh.predict([unknown_fruit_1])"
   ]
  },
  {
   "cell_type": "code",
   "execution_count": 30,
   "id": "145c0e28",
   "metadata": {},
   "outputs": [
    {
     "data": {
      "text/plain": [
       "'orange'"
      ]
     },
     "execution_count": 30,
     "metadata": {},
     "output_type": "execute_result"
    }
   ],
   "source": [
    "#Query the dictionary to know the name of the fruit\n",
    "dict_mapping_fruits[3]"
   ]
  },
  {
   "cell_type": "markdown",
   "id": "1c548c7c",
   "metadata": {},
   "source": [
    "#### 4.10 Bonus Exercise: For those interested to visualize the KNN Decision Boundary "
   ]
  },
  {
   "cell_type": "code",
   "execution_count": 31,
   "id": "2e2e5c27",
   "metadata": {},
   "outputs": [
    {
     "name": "stdout",
     "output_type": "stream",
     "text": [
      "Requirement already satisfied: yellowbrick in /Users/rohan/opt/anaconda3/envs/ala4/lib/python3.6/site-packages (1.3.post1)\n",
      "Requirement already satisfied: cycler>=0.10.0 in /Users/rohan/opt/anaconda3/envs/ala4/lib/python3.6/site-packages (from yellowbrick) (0.11.0)\n",
      "Requirement already satisfied: scipy>=1.0.0 in /Users/rohan/opt/anaconda3/envs/ala4/lib/python3.6/site-packages (from yellowbrick) (1.5.1)\n",
      "Requirement already satisfied: numpy<1.20,>=1.16.0 in /Users/rohan/opt/anaconda3/envs/ala4/lib/python3.6/site-packages (from yellowbrick) (1.19.1)\n",
      "Requirement already satisfied: matplotlib!=3.0.0,>=2.0.2 in /Users/rohan/opt/anaconda3/envs/ala4/lib/python3.6/site-packages (from yellowbrick) (3.3.4)\n",
      "Requirement already satisfied: scikit-learn>=0.20 in /Users/rohan/opt/anaconda3/envs/ala4/lib/python3.6/site-packages (from yellowbrick) (0.23.1)\n",
      "Requirement already satisfied: pillow>=6.2.0 in /Users/rohan/opt/anaconda3/envs/ala4/lib/python3.6/site-packages (from matplotlib!=3.0.0,>=2.0.2->yellowbrick) (8.4.0)\n",
      "Requirement already satisfied: python-dateutil>=2.1 in /Users/rohan/opt/anaconda3/envs/ala4/lib/python3.6/site-packages (from matplotlib!=3.0.0,>=2.0.2->yellowbrick) (2.8.2)\n",
      "Requirement already satisfied: pyparsing!=2.0.4,!=2.1.2,!=2.1.6,>=2.0.3 in /Users/rohan/opt/anaconda3/envs/ala4/lib/python3.6/site-packages (from matplotlib!=3.0.0,>=2.0.2->yellowbrick) (3.0.4)\n",
      "Requirement already satisfied: kiwisolver>=1.0.1 in /Users/rohan/opt/anaconda3/envs/ala4/lib/python3.6/site-packages (from matplotlib!=3.0.0,>=2.0.2->yellowbrick) (1.3.1)\n",
      "Requirement already satisfied: six>=1.5 in /Users/rohan/opt/anaconda3/envs/ala4/lib/python3.6/site-packages (from python-dateutil>=2.1->matplotlib!=3.0.0,>=2.0.2->yellowbrick) (1.16.0)\n",
      "Requirement already satisfied: threadpoolctl>=2.0.0 in /Users/rohan/opt/anaconda3/envs/ala4/lib/python3.6/site-packages (from scikit-learn>=0.20->yellowbrick) (3.1.0)\n",
      "Requirement already satisfied: joblib>=0.11 in /Users/rohan/opt/anaconda3/envs/ala4/lib/python3.6/site-packages (from scikit-learn>=0.20->yellowbrick) (0.14.0)\n"
     ]
    }
   ],
   "source": [
    "!pip install yellowbrick"
   ]
  },
  {
   "cell_type": "markdown",
   "id": "2a53fb0d",
   "metadata": {},
   "source": [
    "We need to select only 2 features to predict the fruit label because of the constraints of the visualization library Yellowbrick. So we select, `mass` and `color_score`. We train the KNN model on these 2 features to predict the fruit label. "
   ]
  },
  {
   "cell_type": "code",
   "execution_count": 32,
   "id": "5d931215",
   "metadata": {},
   "outputs": [],
   "source": [
    "from yellowbrick.contrib.classifier import DecisionViz\n",
    "select_two_features = ['mass','color_score']\n",
    "X = df_fruits[select_two_features]\n",
    "y = df_fruits['fruit_label'] \n",
    "\n",
    "X = X.to_numpy()# for usage in yellowbrick module. Only numpy arrays are accepted\n",
    "y = y.to_numpy()\n",
    "X_train, X_test, y_train, y_test = train_test_split(X, y, random_state=0)"
   ]
  },
  {
   "cell_type": "markdown",
   "id": "381fefff",
   "metadata": {},
   "source": [
    "Visualize the Decision Boundary of KNN on the training set. "
   ]
  },
  {
   "cell_type": "code",
   "execution_count": 33,
   "id": "a4fb5577",
   "metadata": {},
   "outputs": [
    {
     "name": "stderr",
     "output_type": "stream",
     "text": [
      "/Users/rohan/opt/anaconda3/envs/ala4/lib/python3.6/site-packages/yellowbrick/contrib/classifier/boundaries.py:440: MatplotlibDeprecationWarning: shading='flat' when X and Y have the same dimensions as C is deprecated since 3.3.  Either specify the corners of the quadrilaterals with X and Y, or pass shading='auto', 'nearest' or 'gouraud', or set rcParams['pcolor.shading'].  This will become an error two minor releases later.\n",
      "  cmap=ListedColormap(colors.values()),\n"
     ]
    },
    {
     "data": {
      "image/png": "[encoded data removed]",
      "text/plain": [
       "<Figure size 576x396 with 1 Axes>"
      ]
     },
     "metadata": {},
     "output_type": "display_data"
    },
    {
     "data": {
      "text/plain": [
       "<AxesSubplot:xlabel='mass', ylabel='color_score'>"
      ]
     },
     "execution_count": 33,
     "metadata": {},
     "output_type": "execute_result"
    }
   ],
   "source": [
    "viz = DecisionViz(\n",
    "    KNeighborsClassifier(1), title=\"Nearest Neighbors\",\n",
    "    features=['mass', 'color_score'], classes=['apple','mandarin','orange','lemon']\n",
    ")\n",
    "viz.fit(X_train, y_train)\n",
    "viz.draw(X_train, y_train) #viz.draw(X_test, y_test)\n",
    "viz.show()"
   ]
  }
 ],
 "metadata": {
  "kernelspec": {
   "display_name": "Python 3",
   "language": "python",
   "name": "python3"
  },
  "language_info": {
   "codemirror_mode": {
    "name": "ipython",
    "version": 3
   },
   "file_extension": ".py",
   "mimetype": "text/x-python",
   "name": "python",
   "nbconvert_exporter": "python",
   "pygments_lexer": "ipython3",
   "version": "3.6.12"
  }
 },
 "nbformat": 4,
 "nbformat_minor": 5
}
